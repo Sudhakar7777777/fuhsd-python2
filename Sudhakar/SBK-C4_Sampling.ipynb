{
 "cells": [
  {
   "cell_type": "markdown",
   "metadata": {},
   "source": [
    "# C4 Sampling"
   ]
  },
  {
   "cell_type": "code",
   "execution_count": 1,
   "metadata": {},
   "outputs": [],
   "source": [
    "import statistics as stats\n",
    "import random\n",
    "import matplotlib.pyplot as plt"
   ]
  },
  {
   "cell_type": "code",
   "execution_count": 2,
   "metadata": {},
   "outputs": [],
   "source": [
    "random.seed(1234567890) # to make it repeatable with same values"
   ]
  },
  {
   "cell_type": "markdown",
   "metadata": {},
   "source": [
    "# This is Population\n",
    "# Synthetic data for adult male heights, mean=175, Stdev=50"
   ]
  },
  {
   "cell_type": "code",
   "execution_count": 13,
   "metadata": {},
   "outputs": [
    {
     "name": "stdout",
     "output_type": "stream",
     "text": [
      "179.48287970224686\n"
     ]
    }
   ],
   "source": [
    "mean_adult_male_height = 175\n",
    "stdev_adult_male_height = 10\n",
    "myNum = random.normalvariate(mean_adult_male_height,stdev_adult_male_height)\n",
    "print(myNum)"
   ]
  },
  {
   "cell_type": "code",
   "execution_count": 14,
   "metadata": {},
   "outputs": [],
   "source": [
    "million_adult_males = []\n",
    "my_count = 1000000 # country has 1 million adult males\n",
    "for kk in range(my_count):\n",
    "    myNum = random.normalvariate(mean_adult_male_height,stdev_adult_male_height)\n",
    "    rnd_myNum = round(myNum,1)\n",
    "    million_adult_males.append(rnd_myNum)"
   ]
  },
  {
   "cell_type": "code",
   "execution_count": 15,
   "metadata": {},
   "outputs": [
    {
     "name": "stdout",
     "output_type": "stream",
     "text": [
      "[188.5, 173.8, 183.5, 180.1, 177.2, 163.9, 184.7, 175.8, 176.8, 170.7]\n"
     ]
    }
   ],
   "source": [
    "print(million_adult_males[0:10])"
   ]
  },
  {
   "cell_type": "code",
   "execution_count": 16,
   "metadata": {},
   "outputs": [
    {
     "name": "stdout",
     "output_type": "stream",
     "text": [
      "[173.4, 171.4, 183.7, 181.2, 154.7, 170.6, 163.9, 155.9, 175.0, 176.7]\n"
     ]
    }
   ],
   "source": [
    "print(million_adult_males[-10:])"
   ]
  },
  {
   "cell_type": "code",
   "execution_count": 17,
   "metadata": {},
   "outputs": [
    {
     "data": {
      "image/png": "[encoded data removed]",
      "text/plain": [
       "<Figure size 432x288 with 1 Axes>"
      ]
     },
     "metadata": {
      "needs_background": "light"
     },
     "output_type": "display_data"
    }
   ],
   "source": [
    "plt.plot(million_adult_males) # can be any list\n",
    "plt.show()"
   ]
  },
  {
   "cell_type": "markdown",
   "metadata": {},
   "source": [
    "# Plot distribution for population"
   ]
  },
  {
   "cell_type": "code",
   "execution_count": 18,
   "metadata": {},
   "outputs": [
    {
     "data": {
      "image/png": "[encoded data removed]",
      "text/plain": [
       "<Figure size 432x288 with 1 Axes>"
      ]
     },
     "metadata": {
      "needs_background": "light"
     },
     "output_type": "display_data"
    }
   ],
   "source": [
    "plt.hist(million_adult_males,bins=60)\n",
    "plt.xlabel(\"height\")\n",
    "plt.ylabel(\"count\")\n",
    "plt.show()"
   ]
  },
  {
   "cell_type": "markdown",
   "metadata": {},
   "source": [
    "# Mean and Stdev for \"Population\""
   ]
  },
  {
   "cell_type": "code",
   "execution_count": 19,
   "metadata": {},
   "outputs": [
    {
     "name": "stdout",
     "output_type": "stream",
     "text": [
      "Population mean =  174.9759058\n"
     ]
    }
   ],
   "source": [
    "pop_mean = stats.mean(million_adult_males)\n",
    "print(\"Population mean = \",pop_mean)"
   ]
  },
  {
   "cell_type": "code",
   "execution_count": 20,
   "metadata": {},
   "outputs": [
    {
     "name": "stdout",
     "output_type": "stream",
     "text": [
      "Population Stdev =  9.991949807196109\n"
     ]
    }
   ],
   "source": [
    "pop_stdev = stats.pstdev(million_adult_males)\n",
    "print(\"Population Stdev = \",pop_stdev)"
   ]
  },
  {
   "cell_type": "markdown",
   "metadata": {},
   "source": [
    "# Sample 1 and 2 are of size 10,000"
   ]
  },
  {
   "cell_type": "code",
   "execution_count": 21,
   "metadata": {},
   "outputs": [],
   "source": [
    "sample_size_10k = 10000"
   ]
  },
  {
   "cell_type": "code",
   "execution_count": 12,
   "metadata": {},
   "outputs": [],
   "source": [
    "# https://en.wikipedia.org/wiki/Margin_of_error\n",
    "# https://www.dummies.com/education/math/statistics/how-sample-size-affects-the-margin-of-error/"
   ]
  },
  {
   "cell_type": "code",
   "execution_count": 22,
   "metadata": {},
   "outputs": [
    {
     "name": "stdout",
     "output_type": "stream",
     "text": [
      "10000\n"
     ]
    }
   ],
   "source": [
    "sample1_10k = random.sample(million_adult_males,sample_size_10k)\n",
    "print(len(sample1_10k))"
   ]
  },
  {
   "cell_type": "code",
   "execution_count": 23,
   "metadata": {},
   "outputs": [
    {
     "name": "stdout",
     "output_type": "stream",
     "text": [
      "Sample1 mean =  174.98107\n"
     ]
    }
   ],
   "source": [
    "sam1_mean = stats.mean(sample1_10k)\n",
    "print(\"Sample1 mean = \",sam1_mean)"
   ]
  },
  {
   "cell_type": "code",
   "execution_count": 24,
   "metadata": {},
   "outputs": [
    {
     "name": "stdout",
     "output_type": "stream",
     "text": [
      "Sample1 Stdev =  10.08273330035961\n"
     ]
    }
   ],
   "source": [
    "sam1_stdev = stats.stdev(sample1_10k)\n",
    "print(\"Sample1 Stdev = \",sam1_stdev)"
   ]
  },
  {
   "cell_type": "markdown",
   "metadata": {},
   "source": [
    "# Sample 2"
   ]
  },
  {
   "cell_type": "code",
   "execution_count": 25,
   "metadata": {},
   "outputs": [
    {
     "name": "stdout",
     "output_type": "stream",
     "text": [
      "10000\n"
     ]
    }
   ],
   "source": [
    "sample2_10k = random.sample(million_adult_males,sample_size_10k)\n",
    "print(len(sample2_10k))"
   ]
  },
  {
   "cell_type": "code",
   "execution_count": 26,
   "metadata": {},
   "outputs": [
    {
     "name": "stdout",
     "output_type": "stream",
     "text": [
      "Sample2 mean =  174.95627\n"
     ]
    }
   ],
   "source": [
    "sam2_mean = stats.mean(sample2_10k)\n",
    "print(\"Sample2 mean = \",sam2_mean)"
   ]
  },
  {
   "cell_type": "code",
   "execution_count": 27,
   "metadata": {},
   "outputs": [
    {
     "name": "stdout",
     "output_type": "stream",
     "text": [
      "Sample2 Stdev =  9.991080965390367\n"
     ]
    }
   ],
   "source": [
    "sam2_stdev = stats.stdev(sample2_10k)\n",
    "print(\"Sample2 Stdev = \",sam2_stdev)"
   ]
  },
  {
   "cell_type": "code",
   "execution_count": 19,
   "metadata": {},
   "outputs": [],
   "source": [
    "# What is a reasonable sample size? Depends on your margin of error (MOE)"
   ]
  },
  {
   "cell_type": "code",
   "execution_count": 20,
   "metadata": {},
   "outputs": [],
   "source": [
    "# https://www.sophia.org/tutorials/finding-sample-size-with-predetermined-margin-of-e--2\n",
    "# n = [(1.96)^2 * (sigma)^2]/E^2"
   ]
  },
  {
   "cell_type": "code",
   "execution_count": 21,
   "metadata": {},
   "outputs": [],
   "source": [
    "# The challenge is to find the characteristics of the population\n",
    "# from the sample.\n",
    "# Examples:\n",
    "# Sample of apples from the orchard\n",
    "# Sample of people who came to vote\n",
    "# Sample of students in the university\n",
    "\n",
    "# Based on sample, we are able to understand the population with\n",
    "# desired level of error."
   ]
  },
  {
   "cell_type": "markdown",
   "metadata": {},
   "source": [
    "# Sample 3 and 4 are of size 1,000"
   ]
  },
  {
   "cell_type": "code",
   "execution_count": 38,
   "metadata": {},
   "outputs": [],
   "source": [
    "sample_size_1k = 1000"
   ]
  },
  {
   "cell_type": "code",
   "execution_count": 39,
   "metadata": {},
   "outputs": [
    {
     "name": "stdout",
     "output_type": "stream",
     "text": [
      "1000\n"
     ]
    }
   ],
   "source": [
    "sample3_1k = random.sample(million_adult_males,sample_size_1k)\n",
    "print(len(sample3_1k))"
   ]
  },
  {
   "cell_type": "code",
   "execution_count": 40,
   "metadata": {},
   "outputs": [
    {
     "name": "stdout",
     "output_type": "stream",
     "text": [
      "Sample3 mean =  175.7359\n"
     ]
    }
   ],
   "source": [
    "sam3_mean = stats.mean(sample3_1k)\n",
    "print(\"Sample3 mean = \",sam3_mean)"
   ]
  },
  {
   "cell_type": "code",
   "execution_count": 41,
   "metadata": {},
   "outputs": [
    {
     "name": "stdout",
     "output_type": "stream",
     "text": [
      "Sample3 Stdev =  9.939433259674493\n"
     ]
    }
   ],
   "source": [
    "sam3_stdev = stats.stdev(sample3_1k)\n",
    "print(\"Sample3 Stdev = \",sam3_stdev)"
   ]
  },
  {
   "cell_type": "markdown",
   "metadata": {},
   "source": [
    "# Sample 4"
   ]
  },
  {
   "cell_type": "code",
   "execution_count": 42,
   "metadata": {},
   "outputs": [
    {
     "name": "stdout",
     "output_type": "stream",
     "text": [
      "1000\n"
     ]
    }
   ],
   "source": [
    "sample4_1k = random.sample(million_adult_males,sample_size_1k)\n",
    "print(len(sample4_1k))"
   ]
  },
  {
   "cell_type": "code",
   "execution_count": 43,
   "metadata": {},
   "outputs": [
    {
     "name": "stdout",
     "output_type": "stream",
     "text": [
      "Sample4 mean =  175.0522\n"
     ]
    }
   ],
   "source": [
    "sam4_mean = stats.mean(sample4_1k)\n",
    "print(\"Sample4 mean = \",sam4_mean)"
   ]
  },
  {
   "cell_type": "code",
   "execution_count": 44,
   "metadata": {},
   "outputs": [
    {
     "name": "stdout",
     "output_type": "stream",
     "text": [
      "Sample4 Stdev =  9.906519787205509\n"
     ]
    }
   ],
   "source": [
    "sam4_stdev = stats.stdev(sample4_1k)\n",
    "print(\"Sample4 Stdev = \",sam4_stdev)"
   ]
  },
  {
   "cell_type": "code",
   "execution_count": 45,
   "metadata": {},
   "outputs": [
    {
     "name": "stdout",
     "output_type": "stream",
     "text": [
      "[174.9759058, 174.98107, 174.95627, 175.7359, 175.0522]\n"
     ]
    }
   ],
   "source": [
    "means = [pop_mean,sam1_mean,sam2_mean,sam3_mean,sam4_mean]\n",
    "print(means)"
   ]
  },
  {
   "cell_type": "code",
   "execution_count": 46,
   "metadata": {},
   "outputs": [],
   "source": [
    "labels = [\"pop_mean\",\"sam1_mean\",\"sam2_mean\",\"sam3_mean\",\"sam4_mean\"]"
   ]
  },
  {
   "cell_type": "code",
   "execution_count": 47,
   "metadata": {},
   "outputs": [
    {
     "data": {
      "image/png": "[encoded data removed]",
      "text/plain": [
       "<Figure size 432x288 with 1 Axes>"
      ]
     },
     "metadata": {
      "needs_background": "light"
     },
     "output_type": "display_data"
    }
   ],
   "source": [
    "# Plot pop and sample means\n",
    "plt.plot(labels,means,'bo')\n",
    "plt.grid()\n",
    "plt.show()"
   ]
  },
  {
   "cell_type": "code",
   "execution_count": null,
   "metadata": {},
   "outputs": [],
   "source": []
  }
 ],
 "metadata": {
  "kernelspec": {
   "display_name": "Python 3",
   "language": "python",
   "name": "python3"
  },
  "language_info": {
   "codemirror_mode": {
    "name": "ipython",
    "version": 3
   },
   "file_extension": ".py",
   "mimetype": "text/x-python",
   "name": "python",
   "nbconvert_exporter": "python",
   "pygments_lexer": "ipython3",
   "version": "3.7.3"
  }
 },
 "nbformat": 4,
 "nbformat_minor": 2
}
