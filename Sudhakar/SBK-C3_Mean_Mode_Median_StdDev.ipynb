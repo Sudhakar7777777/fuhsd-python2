{
 "cells": [
  {
   "cell_type": "markdown",
   "metadata": {},
   "source": [
    "# Mean, Mode, Median, Standard Deviation"
   ]
  },
  {
   "cell_type": "code",
   "execution_count": 11,
   "metadata": {},
   "outputs": [],
   "source": [
    "import matplotlib.pyplot as plt\n",
    "from matplotlib import interactive\n",
    "interactive(True)\n",
    "%matplotlib notebook"
   ]
  },
  {
   "cell_type": "code",
   "execution_count": 10,
   "metadata": {},
   "outputs": [],
   "source": [
    "import statistics as stats"
   ]
  },
  {
   "cell_type": "code",
   "execution_count": null,
   "metadata": {},
   "outputs": [],
   "source": [
    "# University di Roma -- Sapienza (Kaggle)\n",
    "# https://www.kaggle.com/c/fromsattogpa/data"
   ]
  },
  {
   "cell_type": "code",
   "execution_count": 3,
   "metadata": {},
   "outputs": [],
   "source": [
    "# Function to read csv file and return data as 2-d Python list\n",
    "def read_file_gpa_sat(filename):\n",
    "    file_open = open(filename,\"r\")\n",
    "    data_array = []\n",
    "    for line in iter(file_open):\n",
    "        line_no_newline = line.rstrip()\n",
    "        line_split = line_no_newline.split(\",\")\n",
    "        data_array.append(line_split) \n",
    "    file_open.close()\n",
    "    return data_array"
   ]
  },
  {
   "cell_type": "code",
   "execution_count": 4,
   "metadata": {},
   "outputs": [],
   "source": [
    "gpa_sat_scores = read_file_gpa_sat(\"gpa.csv\")"
   ]
  },
  {
   "cell_type": "code",
   "execution_count": 5,
   "metadata": {},
   "outputs": [
    {
     "name": "stdout",
     "output_type": "stream",
     "text": [
      "[['HS GPA', 'SAT Score'], ['3.4', '1270'], ['4', '1220'], ['3.8', '1160'], ['3.8', '950'], ['4', '1070'], ['4', '1110'], ['2.8', '1220'], ['3.8', '1150']]\n"
     ]
    }
   ],
   "source": [
    "print(gpa_sat_scores[0:9])"
   ]
  },
  {
   "cell_type": "code",
   "execution_count": 6,
   "metadata": {},
   "outputs": [
    {
     "data": {
      "text/plain": [
       "['HS GPA', 'SAT Score']"
      ]
     },
     "execution_count": 6,
     "metadata": {},
     "output_type": "execute_result"
    }
   ],
   "source": [
    "gpa_sat_scores.pop(0)"
   ]
  },
  {
   "cell_type": "code",
   "execution_count": 7,
   "metadata": {},
   "outputs": [
    {
     "name": "stdout",
     "output_type": "stream",
     "text": [
      "[['3.4', '1270'], ['4', '1220'], ['3.8', '1160'], ['3.8', '950'], ['4', '1070'], ['4', '1110'], ['2.8', '1220'], ['3.8', '1150'], ['4', '1440']]\n"
     ]
    }
   ],
   "source": [
    "print(gpa_sat_scores[0:9])"
   ]
  },
  {
   "cell_type": "code",
   "execution_count": 8,
   "metadata": {},
   "outputs": [],
   "source": [
    "all_sat_scores = []\n",
    "for kk in range(len(gpa_sat_scores)):\n",
    "    sat_score = int(gpa_sat_scores[kk][1])\n",
    "    all_sat_scores.append(sat_score)"
   ]
  },
  {
   "cell_type": "code",
   "execution_count": 9,
   "metadata": {},
   "outputs": [
    {
     "name": "stdout",
     "output_type": "stream",
     "text": [
      "[1270, 1220, 1160, 950, 1070, 1110, 1220, 1150, 1440, 850, 1280, 1020, 880, 1080, 1200, 1120, 970, 1210, 1030, 1020, 1400, 720, 1170, 1070, 860, 920, 1350, 910, 980, 800, 1070, 1320, 900, 1200, 1260, 830, 1330, 1070, 810, 1240, 820, 1140, 1170, 870, 1010, 760, 810, 830, 1240, 910, 1230, 1100, 970, 1090, 1300, 1070, 1040, 1320, 1230, 890, 960, 920, 1260, 1060, 1040, 990, 1040, 1300, 950, 1090, 1020, 1270, 1160, 1050, 1130, 880, 750, 1200, 1010, 1060, 1010, 1080, 1090, 940, 1170, 920, 990, 1100, 1270, 930, 790, 1080, 740, 960, 1170, 1050, 1250, 1090, 1010, 1200, 1080, 1200, 1070, 970, 1140, 1360, 1260, 1170, 1160, 1310, 1090, 1040, 1070, 890, 1280, 1270, 1190, 1070, 1410, 1250, 1070, 910, 1230, 1290, 1100, 820, 990, 1010, 1210, 860, 1210, 1240, 970, 930, 1250, 1200, 1110, 850, 1130, 1370, 970, 980, 1240, 1040, 1330, 1220, 1340, 1160, 1030, 950, 1000, 1020, 990, 1140, 1090, 700, 1230, 1030, 870, 1130, 1150, 930, 880, 1050, 1230, 1370, 1230, 900, 1330, 1120, 710, 920, 1110, 1100, 1070, 970, 1020, 900, 860, 1030, 1020, 880, 1220, 880, 930, 1040, 940, 1120, 1310, 1280, 900, 1150, 1190, 920, 1090, 1130, 1080, 760, 670, 850, 1050, 840, 700, 1290, 980, 1150, 920, 820, 1230, 1030, 1180, 1070, 1150, 1200, 980, 1190, 1010, 1150, 1330, 880, 1060, 1000, 1030, 1190, 1180, 1100, 1230, 1120, 890, 1020, 1150, 1000, 1050, 920, 770, 720, 1140, 1100, 920, 1300, 930, 990, 1030, 1300, 740, 850, 980, 1040, 1080, 1170, 1330, 890, 1040, 930, 1110, 650, 1210, 920, 950, 820, 1080, 1330, 970, 940, 790, 1100, 1150, 880, 880, 1250, 910, 1200, 1040, 1170, 890, 930, 870, 1050, 1180, 1000, 1080, 1100, 940, 1040, 1080, 1100, 1150, 1060, 1030, 950, 960, 1200, 1090, 1060, 810, 1150, 1030, 1240, 1080, 1010, 980, 1050, 1180, 980, 940, 900, 980, 1270, 940, 1180, 1010, 770, 840, 910, 860, 1090, 1110, 1120, 1190, 1020, 1230, 920, 930, 870, 1370, 1080, 1000, 1070, 980, 810, 930, 890, 1100, 930, 810, 1020, 1250, 1150, 1250, 870, 1150, 1120, 980, 970, 1030, 1020, 1080, 1120, 980, 930, 1120, 1240, 1080, 1170, 740, 810, 1060, 990, 1120, 770, 890, 1060, 1100, 900, 930, 930, 1080, 1010, 1280, 1230, 1040, 950, 1000, 880, 1060, 1150, 870, 770, 1030, 1020, 910, 1030, 1030, 1000, 1220, 1140, 1020, 970, 1090, 1020, 1140, 1030, 980, 1070, 940, 1190, 1180, 1080, 860, 900, 1180, 920, 1020, 820, 830, 1020, 1070, 900, 1020, 1070, 940, 1130, 1250, 1090, 990, 1030, 880, 1030, 1020, 800, 1090, 1260, 1170, 1050, 840, 920, 1120, 980, 1150, 1080, 940, 1100, 870, 1150, 1030, 790, 1120, 1300, 1120, 1120, 840, 990, 880, 1130, 1040, 960, 1110, 1020, 1150, 820, 1030, 940, 1120, 870, 970, 770, 860, 740, 1060, 980, 1070, 1110, 1040, 1010, 900, 1040, 1090, 940, 1140, 880, 930, 900, 880, 950, 1010, 1090, 980, 1000, 1010, 1070, 880, 770, 1160, 1120, 1020, 750, 950, 1130, 1010, 920, 970, 1030, 1040, 1010, 890, 870, 970, 1100, 1100, 940, 1290, 880, 930, 1160, 840, 850, 1110, 850, 1030, 530, 1210, 1000, 1210, 950, 1030, 1180, 1210, 1030, 1030, 1170, 1040, 1050, 1040, 910, 1060, 1150, 1440, 1000, 770, 1060, 1040, 1150, 1330, 980, 1040, 830, 1000, 1030, 930, 950, 1010, 1040, 1000, 1010, 930, 850, 1110, 980, 940, 1120, 870, 940, 960, 970, 970, 1060, 840, 970, 1100, 1080, 1080, 1060, 840, 1020, 1060, 1030, 1020, 1050, 1100, 940, 920, 1000, 1100, 920, 1030, 1190, 1120, 1080, 900, 710, 900, 1030, 1110, 1060, 1020, 1160, 990, 1200, 930, 980, 870, 1040, 1190, 800, 700, 1040, 1040, 750, 760, 910, 1050, 980, 970, 1060, 1000, 860, 790, 720, 1050, 980, 1140, 790, 1030, 960, 950, 1060, 1140, 1290, 740, 1030, 960, 1080, 1260, 940, 1030, 1140, 1160, 1100, 1010, 1330, 1060, 1200, 850, 1300, 1000, 1070, 1010, 1070, 850, 1090, 840, 980, 920, 930, 1100, 1040, 770, 930, 920, 970, 1020, 1080, 900, 920, 1040, 1030, 970, 920, 960, 1100, 1030, 830, 1010, 950, 1140, 780, 850, 970, 1350, 920, 1000, 890, 720, 1140, 1050, 1060, 970, 930, 1150, 900, 930, 900, 1080, 1020, 1180, 940, 950, 880, 1040, 1010, 1000, 1170, 1090, 900, 940, 970, 1070, 910, 1220, 1200, 1120, 1190, 940, 1160, 920, 970, 980, 960, 650, 1030, 1000, 930, 1000, 1160, 1210, 1120, 1160, 840, 1060, 850, 1120, 860, 1120, 1100, 830, 1150, 1040, 880, 750, 1260, 1070, 930, 1170, 1070, 1240, 1260, 970, 850, 990, 920, 920, 1090, 910, 950, 1030, 1010, 1180, 1150, 950, 1010, 990, 1100, 1050, 1140, 1010, 890, 990, 1040, 1010, 1180, 870, 1020, 1250, 1020, 900, 720, 1090, 900, 1000, 1280, 1190, 1080, 1090, 970, 1000, 960, 1210, 1040, 1220, 910, 990, 1030, 1140, 1080, 1110, 1220, 1130, 1200, 950, 1040, 1100, 1040, 980, 930, 1050, 880, 940, 1090, 1070, 1170, 1210, 860, 930, 910, 1120, 730, 1070, 970, 960, 900, 1040, 830, 980, 900, 1080, 800, 840, 850, 1120, 1030, 1140, 1050, 1020, 1080, 1000, 1280, 1010, 910, 920, 1040, 840, 890, 850, 950, 1040, 1080, 860, 1180, 1060, 990, 1160, 1130, 880, 970, 1210, 1280, 1040, 1210, 1030, 980, 810, 1110, 1300, 1020, 1170, 890, 1060, 810, 1310, 1070, 1290, 950, 1110, 1190, 1080, 920, 1010, 1260, 970, 1250, 1260, 1120, 1070, 1160, 760, 1180, 830, 1220, 940, 790, 1100, 980, 1090, 1000, 900, 1210, 1120, 950, 990, 1030, 850, 1230, 970, 1040, 880, 1350, 1110, 870, 1030, 1210, 1080, 1050, 1150, 1130, 1070, 780, 1260, 880, 1170, 1110, 1220, 1120, 900, 1170, 1370, 890, 1130, 900, 1180, 900, 860, 1090, 1270, 1060, 1160, 1040, 890, 980, 1230, 940, 910, 1190, 1090, 1180, 1030, 1190, 1070, 1090, 980, 1040, 970, 950, 1220, 1060, 910, 940, 1230, 1030, 1260, 1250, 910, 1320, 710, 1110, 1020, 1440, 1260, 980, 1040, 1190, 1170, 950, 1100, 1000, 910, 1160, 1060, 700, 1420, 1000, 860, 950, 1050, 1160, 740, 1030, 1020, 910, 980, 890, 700, 970, 1130, 1100, 880, 1190, 1180, 990, 1020, 1060, 1010, 1410, 880, 1140, 1040, 1000, 1080, 1140, 1200, 930]\n"
     ]
    }
   ],
   "source": [
    "print(all_sat_scores)"
   ]
  },
  {
   "cell_type": "code",
   "execution_count": 10,
   "metadata": {},
   "outputs": [
    {
     "name": "stdout",
     "output_type": "stream",
     "text": [
      "1000\n"
     ]
    }
   ],
   "source": [
    "print(len(all_sat_scores))"
   ]
  },
  {
   "cell_type": "code",
   "execution_count": 11,
   "metadata": {},
   "outputs": [
    {
     "data": {
      "image/png": "[encoded data removed]",
      "text/plain": [
       "<Figure size 432x288 with 1 Axes>"
      ]
     },
     "metadata": {
      "needs_background": "light"
     },
     "output_type": "display_data"
    }
   ],
   "source": [
    "plt.hist(all_sat_scores,bins=18) # takes a list\n",
    "plt.xlabel(\"SAT Score\")\n",
    "plt.ylabel(\"count\")\n",
    "plt.show()"
   ]
  },
  {
   "cell_type": "code",
   "execution_count": 12,
   "metadata": {},
   "outputs": [],
   "source": [
    "plt.close()"
   ]
  },
  {
   "cell_type": "code",
   "execution_count": 13,
   "metadata": {},
   "outputs": [],
   "source": [
    "def myMean(numList):\n",
    "    mySum = sum(numList)\n",
    "    myLen = len(numList)\n",
    "    myMean = mySum/myLen\n",
    "    return myMean"
   ]
  },
  {
   "cell_type": "code",
   "execution_count": 14,
   "metadata": {},
   "outputs": [],
   "source": [
    "def myMedian(numList):\n",
    "    sorted_list = sorted(numList)\n",
    "    aa = sorted_list[5]\n",
    "    return aa"
   ]
  },
  {
   "cell_type": "code",
   "execution_count": 15,
   "metadata": {},
   "outputs": [
    {
     "name": "stdout",
     "output_type": "stream",
     "text": [
      "5.7272727272727275\n",
      "6\n"
     ]
    }
   ],
   "source": [
    "# Test function myMean\n",
    "testList = [9,10,1,2,3,4,5,6,7,8,8]\n",
    "myAvg = myMean(testList)\n",
    "print(myAvg)\n",
    "###########\n",
    "myMed = myMedian(testList)\n",
    "print(myMed)"
   ]
  },
  {
   "cell_type": "code",
   "execution_count": 16,
   "metadata": {},
   "outputs": [
    {
     "name": "stdout",
     "output_type": "stream",
     "text": [
      "5.7272727272727275\n",
      "6\n",
      "2.969542358374741\n"
     ]
    }
   ],
   "source": [
    "print(stats.mean(testList))\n",
    "print(stats.median(testList))\n",
    "print(stats.stdev(testList))"
   ]
  },
  {
   "cell_type": "code",
   "execution_count": 17,
   "metadata": {},
   "outputs": [
    {
     "name": "stdout",
     "output_type": "stream",
     "text": [
      "Most_Common [(8, 2), (9, 1), (10, 1), (1, 1), (2, 1), (3, 1), (4, 1), (5, 1), (6, 1), (7, 1)]\n",
      "Most_Common_1 [(8, 2)]\n"
     ]
    }
   ],
   "source": [
    "from collections import Counter\n",
    "data = Counter(testList)\n",
    "mc = data.most_common()\n",
    "mc_1 = data.most_common(1)\n",
    "print(\"Most_Common\",mc)   # Returns all unique items and their counts\n",
    "print(\"Most_Common_1\",mc_1)  # Returns the highest occurring item"
   ]
  },
  {
   "cell_type": "code",
   "execution_count": 18,
   "metadata": {},
   "outputs": [
    {
     "name": "stdout",
     "output_type": "stream",
     "text": [
      "8\n"
     ]
    }
   ],
   "source": [
    "print(stats.mode(testList))"
   ]
  },
  {
   "cell_type": "markdown",
   "metadata": {},
   "source": [
    "# Standard deviation"
   ]
  },
  {
   "cell_type": "code",
   "execution_count": null,
   "metadata": {},
   "outputs": [],
   "source": [
    "\"\"\"\n",
    "Standard Deviation is a measure of spread in Statistics. It is used to quantify the measure of spread, \n",
    "variation of a set of data values.\n",
    "\n",
    "A low measure of Standard Deviation indicates that the data are less spread out, whereas a high value\n",
    "of Standard Deviation shows that the data in a set are spread apart from their mean average values. \n",
    "\"\"\""
   ]
  },
  {
   "cell_type": "code",
   "execution_count": null,
   "metadata": {},
   "outputs": [],
   "source": [
    "\"\"\" More readings on Standard Deviation\n",
    "https://en.wikipedia.org/wiki/Standard_deviation\n",
    "http://www.techbookreport.com/tutorials/stddev-30-secs.html\n",
    "https://standard-deviation.appspot.com/\n",
    "\"\"\""
   ]
  },
  {
   "cell_type": "code",
   "execution_count": 20,
   "metadata": {},
   "outputs": [],
   "source": [
    "from math import sqrt\n",
    "def myStdDev(numList):\n",
    "    mean_numList = myMean(numList)\n",
    "    list_deviations = []\n",
    "    for kk in range(len(numList)):\n",
    "        deviation = numList[kk] - mean_numList\n",
    "        deviation_sq = deviation * deviation\n",
    "        list_deviations.append(deviation_sq)\n",
    "    sum_list_deviations = sum(list_deviations)\n",
    "    len_list = len(numList)\n",
    "    stdDev = sqrt(sum_list_deviations/(len_list-1))\n",
    "    return stdDev"
   ]
  },
  {
   "cell_type": "code",
   "execution_count": 23,
   "metadata": {},
   "outputs": [
    {
     "name": "stdout",
     "output_type": "stream",
     "text": [
      "1033.29\n",
      "142.8736812320196\n"
     ]
    }
   ],
   "source": [
    "my_mean = myMean(all_sat_scores)\n",
    "my_std = myStdDev(all_sat_scores)\n",
    "print(my_mean)\n",
    "print(my_std)"
   ]
  },
  {
   "cell_type": "code",
   "execution_count": 21,
   "metadata": {},
   "outputs": [
    {
     "name": "stdout",
     "output_type": "stream",
     "text": [
      "1033.29\n"
     ]
    }
   ],
   "source": [
    "mm = stats.mean(all_sat_scores)\n",
    "print(mm)"
   ]
  },
  {
   "cell_type": "code",
   "execution_count": 22,
   "metadata": {},
   "outputs": [
    {
     "name": "stdout",
     "output_type": "stream",
     "text": [
      "142.87368123201975\n"
     ]
    }
   ],
   "source": [
    "nn = stats.stdev(all_sat_scores)\n",
    "print(nn)"
   ]
  },
  {
   "cell_type": "code",
   "execution_count": 24,
   "metadata": {},
   "outputs": [
    {
     "data": {
      "image/png": "[encoded data removed]",
      "text/plain": [
       "<Figure size 432x288 with 1 Axes>"
      ]
     },
     "metadata": {
      "needs_background": "light"
     },
     "output_type": "display_data"
    }
   ],
   "source": [
    "plt.hist(all_sat_scores,bins=18) # takes a list\n",
    "plt.xlabel(\"SAT Score\")\n",
    "plt.ylabel(\"count\")\n",
    "plt.axvline(mm, color='k', linestyle='dashed', linewidth=1)\n",
    "min_ylim, max_ylim = plt.ylim()\n",
    "plt.text(mm*1.0, max_ylim*1.05, 'Mean: {:.0f}'.format(mm))\n",
    "plt.show()"
   ]
  },
  {
   "cell_type": "markdown",
   "metadata": {},
   "source": [
    "# 1-Standard Deviation"
   ]
  },
  {
   "cell_type": "code",
   "execution_count": null,
   "metadata": {},
   "outputs": [],
   "source": [
    "# z = 1 ==> 34.13% on either side of the mean\n",
    "# covers 68.26% of the samples"
   ]
  },
  {
   "cell_type": "code",
   "execution_count": 25,
   "metadata": {},
   "outputs": [
    {
     "data": {
      "image/png": "[encoded data removed]",
      "text/plain": [
       "<Figure size 432x288 with 1 Axes>"
      ]
     },
     "metadata": {
      "needs_background": "light"
     },
     "output_type": "display_data"
    }
   ],
   "source": [
    "plt.hist(all_sat_scores,bins=18) # takes a list\n",
    "plt.xlabel(\"SAT Score\")\n",
    "plt.ylabel(\"count\")\n",
    "plt.axvline(mm+nn, color='red', linestyle='dashed', linewidth=1)\n",
    "plt.axvline(mm-nn, color='red', linestyle='dashed', linewidth=1)\n",
    "plt.axvline(mm, color='k', linestyle='dashed', linewidth=1)\n",
    "min_ylim, max_ylim = plt.ylim()\n",
    "plt.text(mm*1.0, max_ylim*1.05, 'Mean: {:.0f}'.format(mm))\n",
    "plt.show()"
   ]
  },
  {
   "cell_type": "code",
   "execution_count": null,
   "metadata": {},
   "outputs": [],
   "source": [
    "plt.close()"
   ]
  },
  {
   "cell_type": "markdown",
   "metadata": {},
   "source": [
    "# 2-Standard Deviation"
   ]
  },
  {
   "cell_type": "code",
   "execution_count": null,
   "metadata": {},
   "outputs": [],
   "source": [
    "# z = 2 ==> 47.7% on either side of the mean\n",
    "# covers 95.4% of the samples"
   ]
  },
  {
   "cell_type": "code",
   "execution_count": 26,
   "metadata": {},
   "outputs": [
    {
     "data": {
      "image/png": "[encoded data removed]",
      "text/plain": [
       "<Figure size 432x288 with 1 Axes>"
      ]
     },
     "metadata": {
      "needs_background": "light"
     },
     "output_type": "display_data"
    }
   ],
   "source": [
    "plt.hist(all_sat_scores,bins=18) # takes a list\n",
    "plt.xlabel(\"SAT Score\")\n",
    "plt.ylabel(\"count\")\n",
    "plt.axvline(mm+nn, color='red', linestyle='dashed', linewidth=1)\n",
    "plt.axvline(mm-nn, color='red', linestyle='dashed', linewidth=1)\n",
    "plt.axvline(mm+nn*2, color='green', linestyle='dashed', linewidth=1)\n",
    "plt.axvline(mm-nn*2, color='green', linestyle='dashed', linewidth=1)\n",
    "plt.axvline(mm, color='k', linestyle='dashed', linewidth=1)\n",
    "min_ylim, max_ylim = plt.ylim()\n",
    "plt.text(mm*1.0, max_ylim*1.05, 'Mean: {:.0f}'.format(mm))\n",
    "plt.show()"
   ]
  },
  {
   "cell_type": "code",
   "execution_count": 27,
   "metadata": {},
   "outputs": [],
   "source": [
    "plt.close()"
   ]
  },
  {
   "cell_type": "markdown",
   "metadata": {},
   "source": [
    "# 3-Standard Deviation"
   ]
  },
  {
   "cell_type": "code",
   "execution_count": null,
   "metadata": {},
   "outputs": [],
   "source": [
    "# z = 3 ==> 49.87% on either side of the mean\n",
    "# covers 99.74% of the samples"
   ]
  },
  {
   "cell_type": "code",
   "execution_count": 28,
   "metadata": {},
   "outputs": [
    {
     "data": {
      "image/png": "[encoded data removed]",
      "text/plain": [
       "<Figure size 432x288 with 1 Axes>"
      ]
     },
     "metadata": {
      "needs_background": "light"
     },
     "output_type": "display_data"
    }
   ],
   "source": [
    "plt.hist(all_sat_scores,bins=18) # takes a list\n",
    "plt.xlabel(\"SAT Score\")\n",
    "plt.ylabel(\"count\")\n",
    "plt.axvline(mm+nn, color='red', linestyle='dashed', linewidth=1)\n",
    "plt.axvline(mm-nn, color='red', linestyle='dashed', linewidth=1)\n",
    "plt.axvline(mm+nn*2, color='green', linestyle='dashed', linewidth=1)\n",
    "plt.axvline(mm-nn*2, color='green', linestyle='dashed', linewidth=1)\n",
    "plt.axvline(mm+nn*3, color='black', linestyle='dashed', linewidth=1)\n",
    "plt.axvline(mm-nn*3, color='black', linestyle='dashed', linewidth=1)\n",
    "plt.axvline(mm, color='k', linestyle='dashed', linewidth=1)\n",
    "min_ylim, max_ylim = plt.ylim()\n",
    "plt.text(mm*1.0, max_ylim*1.05, 'Mean: {:.0f}'.format(mm))\n",
    "plt.show()"
   ]
  },
  {
   "cell_type": "code",
   "execution_count": 29,
   "metadata": {},
   "outputs": [],
   "source": [
    "plt.close()"
   ]
  },
  {
   "cell_type": "markdown",
   "metadata": {},
   "source": [
    "# C3 Homework"
   ]
  },
  {
   "cell_type": "markdown",
   "metadata": {},
   "source": [
    "# Dataset\n",
    "# https://archive.ics.uci.edu/ml/datasets/Online+Retail"
   ]
  },
  {
   "cell_type": "markdown",
   "metadata": {},
   "source": [
    "# Hw1) Read data from \"Online Retail.xlsx\"\n",
    "#     The dataset has 541,910 lines.\n",
    "#     You can read xlsx using Python, or convert to csv\n",
    "#     The business wants to analyze their invoice value money flow\n",
    "#     to understand business operations."
   ]
  },
  {
   "cell_type": "code",
   "execution_count": null,
   "metadata": {},
   "outputs": [],
   "source": [
    "### Data cleansing step\n",
    "\n",
    "# save .xlsx file to a '|' delimited csv file\n",
    "\n",
    "### Study DataSet Attributes types\n",
    "#InvoiceNo: ==> int ; 6-digit number ==> incorrect prefix c exist for records with returned items ==> str\n",
    "#StockCode: ==> int ; 5-digit number ==> incorrect alpha chars follow for some records ==> str\n",
    "#Description: ==> str ==> some fields are blank; some have £ char which does not work in command line cut commands\n",
    "#Quantity: ==> int ==> \n",
    "#InvoiceDate: ==> date ; format(12/1/10 8:26)\n",
    "#UnitPrice: ==> int ; per unit in sterling.\n",
    "#CustomerID: ==> int ; 5-digit number ==> some have empty ids; ignore them for now\n",
    "#Country: str\n",
    "\n",
    "\n",
    "### Study data quality, invalid symbols, etc.\n",
    "#UnitPrice column has £ symbols, found 32 instances and replace with GBP char in the csv file\n",
    "\n",
    "### Study data quality, missing values\n",
    "#Description ==> some empty records found, can be ignored not used for calculation purposes\n",
    "#CustomerID ==> some empty records found, can be ignored; \n",
    "#   alternatively could lookup based on InvoiceNo and fill it if a valid value can be found if not random generate\n",
    "#   MVP, ignore rows with missing CustomerID"
   ]
  },
  {
   "cell_type": "code",
   "execution_count": 2,
   "metadata": {},
   "outputs": [],
   "source": [
    "import csv\n",
    "\n",
    "def read_orders_file(file_name, file_header, max_rows=0, delimiter=','):\n",
    "    with open(file_name) as csv_file:\n",
    "        csv_reader = csv.reader(csv_file, delimiter=delimiter)\n",
    "        line_count = 0\n",
    "        records = []\n",
    "        header = next(csv_reader)\n",
    "        for row in csv_reader:\n",
    "            # get record\n",
    "            rec = dict(zip(header,row))\n",
    "            # convert types\n",
    "            rec[\"Quantity\"] = int(rec[\"Quantity\"]) if rec[\"Quantity\"] != None else 0\n",
    "            rec[\"UnitPrice\"] = float(rec[\"UnitPrice\"]) if rec[\"UnitPrice\"] != None else 0\n",
    "            # increment loop\n",
    "            line_count += 1\n",
    "            # ignore empty Customer ID records\n",
    "            if rec[\"CustomerID\"] == None:\n",
    "                continue\n",
    "            # save to array\n",
    "            records.append(rec)\n",
    "            if max_rows != 0 and line_count > max_rows:\n",
    "                break\n",
    "        return records"
   ]
  },
  {
   "cell_type": "code",
   "execution_count": 3,
   "metadata": {},
   "outputs": [
    {
     "name": "stdout",
     "output_type": "stream",
     "text": [
      "6\n",
      "[{'InvoiceNo': '536365', 'StockCode': '85123A', 'Description': 'WHITE HANGING HEART T-LIGHT HOLDER', 'Quantity': 6, 'InvoiceDate': '12/1/10 8:26', 'UnitPrice': 2.55, 'CustomerID': '17850', 'Country': 'United Kingdom'}, {'InvoiceNo': '536365', 'StockCode': '71053', 'Description': 'WHITE METAL LANTERN', 'Quantity': 6, 'InvoiceDate': '12/1/10 8:26', 'UnitPrice': 3.39, 'CustomerID': '17850', 'Country': 'United Kingdom'}, {'InvoiceNo': '536365', 'StockCode': '84406B', 'Description': 'CREAM CUPID HEARTS COAT HANGER', 'Quantity': 8, 'InvoiceDate': '12/1/10 8:26', 'UnitPrice': 2.75, 'CustomerID': '17850', 'Country': 'United Kingdom'}, {'InvoiceNo': '536365', 'StockCode': '84029G', 'Description': 'KNITTED UNION FLAG HOT WATER BOTTLE', 'Quantity': 6, 'InvoiceDate': '12/1/10 8:26', 'UnitPrice': 3.39, 'CustomerID': '17850', 'Country': 'United Kingdom'}, {'InvoiceNo': '536365', 'StockCode': '84029E', 'Description': 'RED WOOLLY HOTTIE WHITE HEART.', 'Quantity': 6, 'InvoiceDate': '12/1/10 8:26', 'UnitPrice': 3.39, 'CustomerID': '17850', 'Country': 'United Kingdom'}, {'InvoiceNo': '536365', 'StockCode': '22752', 'Description': 'SET 7 BABUSHKA NESTING BOXES', 'Quantity': 2, 'InvoiceDate': '12/1/10 8:26', 'UnitPrice': 7.65, 'CustomerID': '17850', 'Country': 'United Kingdom'}, {'InvoiceNo': '536365', 'StockCode': '21730', 'Description': 'GLASS STAR FROSTED T-LIGHT HOLDER', 'Quantity': 6, 'InvoiceDate': '12/1/10 8:26', 'UnitPrice': 4.25, 'CustomerID': '17850', 'Country': 'United Kingdom'}, {'InvoiceNo': '536366', 'StockCode': '22633', 'Description': 'HAND WARMER UNION JACK', 'Quantity': 6, 'InvoiceDate': '12/1/10 8:28', 'UnitPrice': 1.85, 'CustomerID': '17850', 'Country': 'United Kingdom'}, {'InvoiceNo': '536366', 'StockCode': '22632', 'Description': 'HAND WARMER RED POLKA DOT', 'Quantity': 6, 'InvoiceDate': '12/1/10 8:28', 'UnitPrice': 1.85, 'CustomerID': '17850', 'Country': 'United Kingdom'}, {'InvoiceNo': '536367', 'StockCode': '84879', 'Description': 'ASSORTED COLOUR BIRD ORNAMENT', 'Quantity': 32, 'InvoiceDate': '12/1/10 8:34', 'UnitPrice': 1.69, 'CustomerID': '13047', 'Country': 'United Kingdom'}, {'InvoiceNo': '536367', 'StockCode': '22745', 'Description': \"POPPY'S PLAYHOUSE BEDROOM \", 'Quantity': 6, 'InvoiceDate': '12/1/10 8:34', 'UnitPrice': 2.1, 'CustomerID': '13047', 'Country': 'United Kingdom'}, {'InvoiceNo': '536367', 'StockCode': '22748', 'Description': \"POPPY'S PLAYHOUSE KITCHEN\", 'Quantity': 6, 'InvoiceDate': '12/1/10 8:34', 'UnitPrice': 2.1, 'CustomerID': '13047', 'Country': 'United Kingdom'}, {'InvoiceNo': '536367', 'StockCode': '22749', 'Description': 'FELTCRAFT PRINCESS CHARLOTTE DOLL', 'Quantity': 8, 'InvoiceDate': '12/1/10 8:34', 'UnitPrice': 3.75, 'CustomerID': '13047', 'Country': 'United Kingdom'}, {'InvoiceNo': '536367', 'StockCode': '22310', 'Description': 'IVORY KNITTED MUG COSY ', 'Quantity': 6, 'InvoiceDate': '12/1/10 8:34', 'UnitPrice': 1.65, 'CustomerID': '13047', 'Country': 'United Kingdom'}, {'InvoiceNo': '536367', 'StockCode': '84969', 'Description': 'BOX OF 6 ASSORTED COLOUR TEASPOONS', 'Quantity': 6, 'InvoiceDate': '12/1/10 8:34', 'UnitPrice': 4.25, 'CustomerID': '13047', 'Country': 'United Kingdom'}, {'InvoiceNo': '536367', 'StockCode': '22623', 'Description': 'BOX OF VINTAGE JIGSAW BLOCKS ', 'Quantity': 3, 'InvoiceDate': '12/1/10 8:34', 'UnitPrice': 4.95, 'CustomerID': '13047', 'Country': 'United Kingdom'}, {'InvoiceNo': '536367', 'StockCode': '22622', 'Description': 'BOX OF VINTAGE ALPHABET BLOCKS', 'Quantity': 2, 'InvoiceDate': '12/1/10 8:34', 'UnitPrice': 9.95, 'CustomerID': '13047', 'Country': 'United Kingdom'}, {'InvoiceNo': '536367', 'StockCode': '21754', 'Description': 'HOME BUILDING BLOCK WORD', 'Quantity': 3, 'InvoiceDate': '12/1/10 8:34', 'UnitPrice': 5.95, 'CustomerID': '13047', 'Country': 'United Kingdom'}, {'InvoiceNo': '536367', 'StockCode': '21755', 'Description': 'LOVE BUILDING BLOCK WORD', 'Quantity': 3, 'InvoiceDate': '12/1/10 8:34', 'UnitPrice': 5.95, 'CustomerID': '13047', 'Country': 'United Kingdom'}, {'InvoiceNo': '536367', 'StockCode': '21777', 'Description': 'RECIPE BOX WITH METAL HEART', 'Quantity': 4, 'InvoiceDate': '12/1/10 8:34', 'UnitPrice': 7.95, 'CustomerID': '13047', 'Country': 'United Kingdom'}, {'InvoiceNo': '536367', 'StockCode': '48187', 'Description': 'DOORMAT NEW ENGLAND', 'Quantity': 4, 'InvoiceDate': '12/1/10 8:34', 'UnitPrice': 7.95, 'CustomerID': '13047', 'Country': 'United Kingdom'}, {'InvoiceNo': '536368', 'StockCode': '22960', 'Description': 'JAM MAKING SET WITH JARS', 'Quantity': 6, 'InvoiceDate': '12/1/10 8:34', 'UnitPrice': 4.25, 'CustomerID': '13047', 'Country': 'United Kingdom'}, {'InvoiceNo': '536368', 'StockCode': '22913', 'Description': 'RED COAT RACK PARIS FASHION', 'Quantity': 3, 'InvoiceDate': '12/1/10 8:34', 'UnitPrice': 4.95, 'CustomerID': '13047', 'Country': 'United Kingdom'}, {'InvoiceNo': '536368', 'StockCode': '22912', 'Description': 'YELLOW COAT RACK PARIS FASHION', 'Quantity': 3, 'InvoiceDate': '12/1/10 8:34', 'UnitPrice': 4.95, 'CustomerID': '13047', 'Country': 'United Kingdom'}, {'InvoiceNo': '536368', 'StockCode': '22914', 'Description': 'BLUE COAT RACK PARIS FASHION', 'Quantity': 3, 'InvoiceDate': '12/1/10 8:34', 'UnitPrice': 4.95, 'CustomerID': '13047', 'Country': 'United Kingdom'}, {'InvoiceNo': '536369', 'StockCode': '21756', 'Description': 'BATH BUILDING BLOCK WORD', 'Quantity': 3, 'InvoiceDate': '12/1/10 8:35', 'UnitPrice': 5.95, 'CustomerID': '13047', 'Country': 'United Kingdom'}, {'InvoiceNo': '536370', 'StockCode': '22728', 'Description': 'ALARM CLOCK BAKELIKE PINK', 'Quantity': 24, 'InvoiceDate': '12/1/10 8:45', 'UnitPrice': 3.75, 'CustomerID': '12583', 'Country': 'France'}, {'InvoiceNo': '536370', 'StockCode': '22727', 'Description': 'ALARM CLOCK BAKELIKE RED ', 'Quantity': 24, 'InvoiceDate': '12/1/10 8:45', 'UnitPrice': 3.75, 'CustomerID': '12583', 'Country': 'France'}, {'InvoiceNo': '536370', 'StockCode': '22726', 'Description': 'ALARM CLOCK BAKELIKE GREEN', 'Quantity': 12, 'InvoiceDate': '12/1/10 8:45', 'UnitPrice': 3.75, 'CustomerID': '12583', 'Country': 'France'}, {'InvoiceNo': '536370', 'StockCode': '21724', 'Description': 'PANDA AND BUNNIES STICKER SHEET', 'Quantity': 12, 'InvoiceDate': '12/1/10 8:45', 'UnitPrice': 0.85, 'CustomerID': '12583', 'Country': 'France'}, {'InvoiceNo': '536370', 'StockCode': '21883', 'Description': 'STARS GIFT TAPE ', 'Quantity': 24, 'InvoiceDate': '12/1/10 8:45', 'UnitPrice': 0.65, 'CustomerID': '12583', 'Country': 'France'}, {'InvoiceNo': '536370', 'StockCode': '10002', 'Description': 'INFLATABLE POLITICAL GLOBE ', 'Quantity': 48, 'InvoiceDate': '12/1/10 8:45', 'UnitPrice': 0.85, 'CustomerID': '12583', 'Country': 'France'}, {'InvoiceNo': '536370', 'StockCode': '21791', 'Description': 'VINTAGE HEADS AND TAILS CARD GAME ', 'Quantity': 24, 'InvoiceDate': '12/1/10 8:45', 'UnitPrice': 1.25, 'CustomerID': '12583', 'Country': 'France'}, {'InvoiceNo': '536370', 'StockCode': '21035', 'Description': 'SET/2 RED RETROSPOT TEA TOWELS ', 'Quantity': 18, 'InvoiceDate': '12/1/10 8:45', 'UnitPrice': 2.95, 'CustomerID': '12583', 'Country': 'France'}, {'InvoiceNo': '536370', 'StockCode': '22326', 'Description': 'ROUND SNACK BOXES SET OF4 WOODLAND ', 'Quantity': 24, 'InvoiceDate': '12/1/10 8:45', 'UnitPrice': 2.95, 'CustomerID': '12583', 'Country': 'France'}, {'InvoiceNo': '536370', 'StockCode': '22629', 'Description': 'SPACEBOY LUNCH BOX ', 'Quantity': 24, 'InvoiceDate': '12/1/10 8:45', 'UnitPrice': 1.95, 'CustomerID': '12583', 'Country': 'France'}, {'InvoiceNo': '536370', 'StockCode': '22659', 'Description': 'LUNCH BOX I LOVE LONDON', 'Quantity': 24, 'InvoiceDate': '12/1/10 8:45', 'UnitPrice': 1.95, 'CustomerID': '12583', 'Country': 'France'}, {'InvoiceNo': '536370', 'StockCode': '22631', 'Description': 'CIRCUS PARADE LUNCH BOX ', 'Quantity': 24, 'InvoiceDate': '12/1/10 8:45', 'UnitPrice': 1.95, 'CustomerID': '12583', 'Country': 'France'}, {'InvoiceNo': '536370', 'StockCode': '22661', 'Description': 'CHARLOTTE BAG DOLLY GIRL DESIGN', 'Quantity': 20, 'InvoiceDate': '12/1/10 8:45', 'UnitPrice': 0.85, 'CustomerID': '12583', 'Country': 'France'}, {'InvoiceNo': '536370', 'StockCode': '21731', 'Description': 'RED TOADSTOOL LED NIGHT LIGHT', 'Quantity': 24, 'InvoiceDate': '12/1/10 8:45', 'UnitPrice': 1.65, 'CustomerID': '12583', 'Country': 'France'}, {'InvoiceNo': '536370', 'StockCode': '22900', 'Description': ' SET 2 TEA TOWELS I LOVE LONDON ', 'Quantity': 24, 'InvoiceDate': '12/1/10 8:45', 'UnitPrice': 2.95, 'CustomerID': '12583', 'Country': 'France'}, {'InvoiceNo': '536370', 'StockCode': '21913', 'Description': 'VINTAGE SEASIDE JIGSAW PUZZLES', 'Quantity': 12, 'InvoiceDate': '12/1/10 8:45', 'UnitPrice': 3.75, 'CustomerID': '12583', 'Country': 'France'}, {'InvoiceNo': '536370', 'StockCode': '22540', 'Description': 'MINI JIGSAW CIRCUS PARADE ', 'Quantity': 24, 'InvoiceDate': '12/1/10 8:45', 'UnitPrice': 0.42, 'CustomerID': '12583', 'Country': 'France'}, {'InvoiceNo': '536370', 'StockCode': '22544', 'Description': 'MINI JIGSAW SPACEBOY', 'Quantity': 24, 'InvoiceDate': '12/1/10 8:45', 'UnitPrice': 0.42, 'CustomerID': '12583', 'Country': 'France'}, {'InvoiceNo': '536370', 'StockCode': '22492', 'Description': 'MINI PAINT SET VINTAGE ', 'Quantity': 36, 'InvoiceDate': '12/1/10 8:45', 'UnitPrice': 0.65, 'CustomerID': '12583', 'Country': 'France'}, {'InvoiceNo': '536370', 'StockCode': 'POST', 'Description': 'POSTAGE', 'Quantity': 3, 'InvoiceDate': '12/1/10 8:45', 'UnitPrice': 18.0, 'CustomerID': '12583', 'Country': 'France'}, {'InvoiceNo': '536371', 'StockCode': '22086', 'Description': \"PAPER CHAIN KIT 50'S CHRISTMAS \", 'Quantity': 80, 'InvoiceDate': '12/1/10 9:00', 'UnitPrice': 2.55, 'CustomerID': '13748', 'Country': 'United Kingdom'}, {'InvoiceNo': '536372', 'StockCode': '22632', 'Description': 'HAND WARMER RED POLKA DOT', 'Quantity': 6, 'InvoiceDate': '12/1/10 9:01', 'UnitPrice': 1.85, 'CustomerID': '17850', 'Country': 'United Kingdom'}, {'InvoiceNo': '536372', 'StockCode': '22633', 'Description': 'HAND WARMER UNION JACK', 'Quantity': 6, 'InvoiceDate': '12/1/10 9:01', 'UnitPrice': 1.85, 'CustomerID': '17850', 'Country': 'United Kingdom'}, {'InvoiceNo': '536373', 'StockCode': '85123A', 'Description': 'WHITE HANGING HEART T-LIGHT HOLDER', 'Quantity': 6, 'InvoiceDate': '12/1/10 9:02', 'UnitPrice': 2.55, 'CustomerID': '17850', 'Country': 'United Kingdom'}, {'InvoiceNo': '536373', 'StockCode': '71053', 'Description': 'WHITE METAL LANTERN', 'Quantity': 6, 'InvoiceDate': '12/1/10 9:02', 'UnitPrice': 3.39, 'CustomerID': '17850', 'Country': 'United Kingdom'}, {'InvoiceNo': '536373', 'StockCode': '84406B', 'Description': 'CREAM CUPID HEARTS COAT HANGER', 'Quantity': 8, 'InvoiceDate': '12/1/10 9:02', 'UnitPrice': 2.75, 'CustomerID': '17850', 'Country': 'United Kingdom'}, {'InvoiceNo': '536373', 'StockCode': '20679', 'Description': 'EDWARDIAN PARASOL RED', 'Quantity': 6, 'InvoiceDate': '12/1/10 9:02', 'UnitPrice': 4.95, 'CustomerID': '17850', 'Country': 'United Kingdom'}, {'InvoiceNo': '536373', 'StockCode': '37370', 'Description': 'RETRO COFFEE MUGS ASSORTED', 'Quantity': 6, 'InvoiceDate': '12/1/10 9:02', 'UnitPrice': 1.06, 'CustomerID': '17850', 'Country': 'United Kingdom'}, {'InvoiceNo': '536373', 'StockCode': '21871', 'Description': 'SAVE THE PLANET MUG', 'Quantity': 6, 'InvoiceDate': '12/1/10 9:02', 'UnitPrice': 1.06, 'CustomerID': '17850', 'Country': 'United Kingdom'}, {'InvoiceNo': '536373', 'StockCode': '21071', 'Description': 'VINTAGE BILLBOARD DRINK ME MUG', 'Quantity': 6, 'InvoiceDate': '12/1/10 9:02', 'UnitPrice': 1.06, 'CustomerID': '17850', 'Country': 'United Kingdom'}, {'InvoiceNo': '536373', 'StockCode': '21068', 'Description': 'VINTAGE BILLBOARD LOVE/HATE MUG', 'Quantity': 6, 'InvoiceDate': '12/1/10 9:02', 'UnitPrice': 1.06, 'CustomerID': '17850', 'Country': 'United Kingdom'}, {'InvoiceNo': '536373', 'StockCode': '82483', 'Description': 'WOOD 2 DRAWER CABINET WHITE FINISH', 'Quantity': 2, 'InvoiceDate': '12/1/10 9:02', 'UnitPrice': 4.95, 'CustomerID': '17850', 'Country': 'United Kingdom'}, {'InvoiceNo': '536373', 'StockCode': '82486', 'Description': 'WOOD S/3 CABINET ANT WHITE FINISH', 'Quantity': 4, 'InvoiceDate': '12/1/10 9:02', 'UnitPrice': 6.95, 'CustomerID': '17850', 'Country': 'United Kingdom'}, {'InvoiceNo': '536373', 'StockCode': '82482', 'Description': 'WOODEN PICTURE FRAME WHITE FINISH', 'Quantity': 6, 'InvoiceDate': '12/1/10 9:02', 'UnitPrice': 2.1, 'CustomerID': '17850', 'Country': 'United Kingdom'}, {'InvoiceNo': '536373', 'StockCode': '82494L', 'Description': 'WOODEN FRAME ANTIQUE WHITE ', 'Quantity': 6, 'InvoiceDate': '12/1/10 9:02', 'UnitPrice': 2.55, 'CustomerID': '17850', 'Country': 'United Kingdom'}, {'InvoiceNo': '536373', 'StockCode': '84029G', 'Description': 'KNITTED UNION FLAG HOT WATER BOTTLE', 'Quantity': 6, 'InvoiceDate': '12/1/10 9:02', 'UnitPrice': 3.39, 'CustomerID': '17850', 'Country': 'United Kingdom'}, {'InvoiceNo': '536373', 'StockCode': '84029E', 'Description': 'RED WOOLLY HOTTIE WHITE HEART.', 'Quantity': 6, 'InvoiceDate': '12/1/10 9:02', 'UnitPrice': 3.39, 'CustomerID': '17850', 'Country': 'United Kingdom'}, {'InvoiceNo': '536373', 'StockCode': '22752', 'Description': 'SET 7 BABUSHKA NESTING BOXES', 'Quantity': 2, 'InvoiceDate': '12/1/10 9:02', 'UnitPrice': 7.65, 'CustomerID': '17850', 'Country': 'United Kingdom'}, {'InvoiceNo': '536373', 'StockCode': '21730', 'Description': 'GLASS STAR FROSTED T-LIGHT HOLDER', 'Quantity': 6, 'InvoiceDate': '12/1/10 9:02', 'UnitPrice': 4.25, 'CustomerID': '17850', 'Country': 'United Kingdom'}, {'InvoiceNo': '536374', 'StockCode': '21258', 'Description': 'VICTORIAN SEWING BOX LARGE', 'Quantity': 32, 'InvoiceDate': '12/1/10 9:09', 'UnitPrice': 10.95, 'CustomerID': '15100', 'Country': 'United Kingdom'}, {'InvoiceNo': '536375', 'StockCode': '85123A', 'Description': 'WHITE HANGING HEART T-LIGHT HOLDER', 'Quantity': 6, 'InvoiceDate': '12/1/10 9:32', 'UnitPrice': 2.55, 'CustomerID': '17850', 'Country': 'United Kingdom'}, {'InvoiceNo': '536375', 'StockCode': '71053', 'Description': 'WHITE METAL LANTERN', 'Quantity': 6, 'InvoiceDate': '12/1/10 9:32', 'UnitPrice': 3.39, 'CustomerID': '17850', 'Country': 'United Kingdom'}, {'InvoiceNo': '536375', 'StockCode': '84406B', 'Description': 'CREAM CUPID HEARTS COAT HANGER', 'Quantity': 8, 'InvoiceDate': '12/1/10 9:32', 'UnitPrice': 2.75, 'CustomerID': '17850', 'Country': 'United Kingdom'}, {'InvoiceNo': '536375', 'StockCode': '20679', 'Description': 'EDWARDIAN PARASOL RED', 'Quantity': 6, 'InvoiceDate': '12/1/10 9:32', 'UnitPrice': 4.95, 'CustomerID': '17850', 'Country': 'United Kingdom'}, {'InvoiceNo': '536375', 'StockCode': '37370', 'Description': 'RETRO COFFEE MUGS ASSORTED', 'Quantity': 6, 'InvoiceDate': '12/1/10 9:32', 'UnitPrice': 1.06, 'CustomerID': '17850', 'Country': 'United Kingdom'}, {'InvoiceNo': '536375', 'StockCode': '21871', 'Description': 'SAVE THE PLANET MUG', 'Quantity': 6, 'InvoiceDate': '12/1/10 9:32', 'UnitPrice': 1.06, 'CustomerID': '17850', 'Country': 'United Kingdom'}, {'InvoiceNo': '536375', 'StockCode': '21071', 'Description': 'VINTAGE BILLBOARD DRINK ME MUG', 'Quantity': 6, 'InvoiceDate': '12/1/10 9:32', 'UnitPrice': 1.06, 'CustomerID': '17850', 'Country': 'United Kingdom'}, {'InvoiceNo': '536375', 'StockCode': '21068', 'Description': 'VINTAGE BILLBOARD LOVE/HATE MUG', 'Quantity': 6, 'InvoiceDate': '12/1/10 9:32', 'UnitPrice': 1.06, 'CustomerID': '17850', 'Country': 'United Kingdom'}, {'InvoiceNo': '536375', 'StockCode': '82483', 'Description': 'WOOD 2 DRAWER CABINET WHITE FINISH', 'Quantity': 2, 'InvoiceDate': '12/1/10 9:32', 'UnitPrice': 4.95, 'CustomerID': '17850', 'Country': 'United Kingdom'}, {'InvoiceNo': '536375', 'StockCode': '82486', 'Description': 'WOOD S/3 CABINET ANT WHITE FINISH', 'Quantity': 4, 'InvoiceDate': '12/1/10 9:32', 'UnitPrice': 6.95, 'CustomerID': '17850', 'Country': 'United Kingdom'}, {'InvoiceNo': '536375', 'StockCode': '82482', 'Description': 'WOODEN PICTURE FRAME WHITE FINISH', 'Quantity': 6, 'InvoiceDate': '12/1/10 9:32', 'UnitPrice': 2.1, 'CustomerID': '17850', 'Country': 'United Kingdom'}, {'InvoiceNo': '536375', 'StockCode': '82494L', 'Description': 'WOODEN FRAME ANTIQUE WHITE ', 'Quantity': 6, 'InvoiceDate': '12/1/10 9:32', 'UnitPrice': 2.55, 'CustomerID': '17850', 'Country': 'United Kingdom'}, {'InvoiceNo': '536375', 'StockCode': '84029G', 'Description': 'KNITTED UNION FLAG HOT WATER BOTTLE', 'Quantity': 6, 'InvoiceDate': '12/1/10 9:32', 'UnitPrice': 3.39, 'CustomerID': '17850', 'Country': 'United Kingdom'}, {'InvoiceNo': '536375', 'StockCode': '84029E', 'Description': 'RED WOOLLY HOTTIE WHITE HEART.', 'Quantity': 6, 'InvoiceDate': '12/1/10 9:32', 'UnitPrice': 3.39, 'CustomerID': '17850', 'Country': 'United Kingdom'}, {'InvoiceNo': '536375', 'StockCode': '22752', 'Description': 'SET 7 BABUSHKA NESTING BOXES', 'Quantity': 2, 'InvoiceDate': '12/1/10 9:32', 'UnitPrice': 7.65, 'CustomerID': '17850', 'Country': 'United Kingdom'}, {'InvoiceNo': '536375', 'StockCode': '21730', 'Description': 'GLASS STAR FROSTED T-LIGHT HOLDER', 'Quantity': 6, 'InvoiceDate': '12/1/10 9:32', 'UnitPrice': 4.25, 'CustomerID': '17850', 'Country': 'United Kingdom'}, {'InvoiceNo': '536376', 'StockCode': '22114', 'Description': 'HOT WATER BOTTLE TEA AND SYMPATHY', 'Quantity': 48, 'InvoiceDate': '12/1/10 9:32', 'UnitPrice': 3.45, 'CustomerID': '15291', 'Country': 'United Kingdom'}, {'InvoiceNo': '536376', 'StockCode': '21733', 'Description': 'RED HANGING HEART T-LIGHT HOLDER', 'Quantity': 64, 'InvoiceDate': '12/1/10 9:32', 'UnitPrice': 2.55, 'CustomerID': '15291', 'Country': 'United Kingdom'}, {'InvoiceNo': '536377', 'StockCode': '22632', 'Description': 'HAND WARMER RED POLKA DOT', 'Quantity': 6, 'InvoiceDate': '12/1/10 9:34', 'UnitPrice': 1.85, 'CustomerID': '17850', 'Country': 'United Kingdom'}, {'InvoiceNo': '536377', 'StockCode': '22633', 'Description': 'HAND WARMER UNION JACK', 'Quantity': 6, 'InvoiceDate': '12/1/10 9:34', 'UnitPrice': 1.85, 'CustomerID': '17850', 'Country': 'United Kingdom'}, {'InvoiceNo': '536378', 'StockCode': '22386', 'Description': 'JUMBO BAG PINK POLKADOT', 'Quantity': 10, 'InvoiceDate': '12/1/10 9:37', 'UnitPrice': 1.95, 'CustomerID': '14688', 'Country': 'United Kingdom'}, {'InvoiceNo': '536378', 'StockCode': '85099C', 'Description': 'JUMBO  BAG BAROQUE BLACK WHITE', 'Quantity': 10, 'InvoiceDate': '12/1/10 9:37', 'UnitPrice': 1.95, 'CustomerID': '14688', 'Country': 'United Kingdom'}, {'InvoiceNo': '536378', 'StockCode': '21033', 'Description': 'JUMBO BAG CHARLIE AND LOLA TOYS', 'Quantity': 10, 'InvoiceDate': '12/1/10 9:37', 'UnitPrice': 2.95, 'CustomerID': '14688', 'Country': 'United Kingdom'}, {'InvoiceNo': '536378', 'StockCode': '20723', 'Description': 'STRAWBERRY CHARLOTTE BAG', 'Quantity': 10, 'InvoiceDate': '12/1/10 9:37', 'UnitPrice': 0.85, 'CustomerID': '14688', 'Country': 'United Kingdom'}, {'InvoiceNo': '536378', 'StockCode': '84997B', 'Description': 'RED 3 PIECE RETROSPOT CUTLERY SET', 'Quantity': 12, 'InvoiceDate': '12/1/10 9:37', 'UnitPrice': 3.75, 'CustomerID': '14688', 'Country': 'United Kingdom'}, {'InvoiceNo': '536378', 'StockCode': '84997C', 'Description': 'BLUE 3 PIECE POLKADOT CUTLERY SET', 'Quantity': 6, 'InvoiceDate': '12/1/10 9:37', 'UnitPrice': 3.75, 'CustomerID': '14688', 'Country': 'United Kingdom'}, {'InvoiceNo': '536378', 'StockCode': '21094', 'Description': 'SET/6 RED SPOTTY PAPER PLATES', 'Quantity': 12, 'InvoiceDate': '12/1/10 9:37', 'UnitPrice': 0.85, 'CustomerID': '14688', 'Country': 'United Kingdom'}, {'InvoiceNo': '536378', 'StockCode': '20725', 'Description': 'LUNCH BAG RED RETROSPOT', 'Quantity': 10, 'InvoiceDate': '12/1/10 9:37', 'UnitPrice': 1.65, 'CustomerID': '14688', 'Country': 'United Kingdom'}, {'InvoiceNo': '536378', 'StockCode': '21559', 'Description': 'STRAWBERRY LUNCH BOX WITH CUTLERY', 'Quantity': 6, 'InvoiceDate': '12/1/10 9:37', 'UnitPrice': 2.55, 'CustomerID': '14688', 'Country': 'United Kingdom'}, {'InvoiceNo': '536378', 'StockCode': '22352', 'Description': 'LUNCH BOX WITH CUTLERY RETROSPOT ', 'Quantity': 6, 'InvoiceDate': '12/1/10 9:37', 'UnitPrice': 2.55, 'CustomerID': '14688', 'Country': 'United Kingdom'}, {'InvoiceNo': '536378', 'StockCode': '21212', 'Description': 'PACK OF 72 RETROSPOT CAKE CASES', 'Quantity': 120, 'InvoiceDate': '12/1/10 9:37', 'UnitPrice': 0.42, 'CustomerID': '14688', 'Country': 'United Kingdom'}, {'InvoiceNo': '536378', 'StockCode': '21975', 'Description': 'PACK OF 60 DINOSAUR CAKE CASES', 'Quantity': 24, 'InvoiceDate': '12/1/10 9:37', 'UnitPrice': 0.55, 'CustomerID': '14688', 'Country': 'United Kingdom'}, {'InvoiceNo': '536378', 'StockCode': '21977', 'Description': 'PACK OF 60 PINK PAISLEY CAKE CASES', 'Quantity': 24, 'InvoiceDate': '12/1/10 9:37', 'UnitPrice': 0.55, 'CustomerID': '14688', 'Country': 'United Kingdom'}, {'InvoiceNo': '536378', 'StockCode': '84991', 'Description': '60 TEATIME FAIRY CAKE CASES', 'Quantity': 24, 'InvoiceDate': '12/1/10 9:37', 'UnitPrice': 0.55, 'CustomerID': '14688', 'Country': 'United Kingdom'}]\n"
     ]
    }
   ],
   "source": [
    "# Your code here ...\n",
    "file_header = [\"InvoiceNo\",\"StockCode\",\"Description\",\"Quantity\",\"InvoiceDate\",\"UnitPrice\",\"CustomerID\",\"Country\"]\n",
    "print(file_header.index(\"CustomerID\"))\n",
    "orders = read_orders_file(\"OnlineRetail.csv\", file_header, 100000, '|')\n",
    "print(orders[0:100])"
   ]
  },
  {
   "cell_type": "markdown",
   "metadata": {},
   "source": [
    "# HW2) The goal is to find statistical measures for invoice values\n",
    "#     Consolidate invoices based on \"InvoiceNo\" (left-most column)\n",
    "#     Also, consolidate by \"Quantity X Unit Price\"\n",
    "# For example, lines 2 to 8 refers to the same invoice"
   ]
  },
  {
   "cell_type": "code",
   "execution_count": 4,
   "metadata": {},
   "outputs": [],
   "source": [
    "def generate_invoices_simple(orders):\n",
    "    invoices = []\n",
    "    for order in orders:\n",
    "        invoice = order['InvoiceNo']\n",
    "        item_amount = order['Quantity'] * order['UnitPrice']\n",
    "        updated = False\n",
    "        for rec in invoices:\n",
    "            if rec[0] == invoice:\n",
    "                rec[1] = round(rec[1] + item_amount, 2)\n",
    "                updated = True\n",
    "        if updated == False:\n",
    "            invoices.append([invoice, round(item_amount, 2)])\n",
    "    return invoices"
   ]
  },
  {
   "cell_type": "code",
   "execution_count": 5,
   "metadata": {},
   "outputs": [
    {
     "name": "stdout",
     "output_type": "stream",
     "text": [
      "4657\n",
      "['C538082', -42.0]\n"
     ]
    }
   ],
   "source": [
    "#HW2) Your code here ...\n",
    "\n",
    "invoices = generate_invoices_simple(orders)\n",
    "print(len(invoices))\n",
    "print(invoices[1000])"
   ]
  },
  {
   "cell_type": "code",
   "execution_count": 6,
   "metadata": {},
   "outputs": [],
   "source": [
    "def generate_invoices(orders):\n",
    "    invoices = {}\n",
    "    for order in orders:\n",
    "        invoice = order['InvoiceNo']\n",
    "        item_amount = order['Quantity'] * order['UnitPrice']\n",
    "        if invoices.get(invoice) is None:\n",
    "            invoices[invoice] = round(item_amount, 2)\n",
    "        else:\n",
    "            invoices[invoice] = round(item_amount + invoices[invoice], 2)\n",
    "    return invoices"
   ]
  },
  {
   "cell_type": "code",
   "execution_count": 7,
   "metadata": {},
   "outputs": [
    {
     "name": "stdout",
     "output_type": "stream",
     "text": [
      "4657\n",
      "C538082\n",
      "-42.0\n"
     ]
    }
   ],
   "source": [
    "invoices = generate_invoices(orders)\n",
    "print(len(invoices))\n",
    "print(list(invoices.keys())[1000])\n",
    "print(list(invoices.values())[1000])"
   ]
  },
  {
   "cell_type": "markdown",
   "metadata": {},
   "source": [
    "# HW3) Find mean, median, and mode for \"consolidated invoice values\""
   ]
  },
  {
   "cell_type": "code",
   "execution_count": 8,
   "metadata": {},
   "outputs": [],
   "source": [
    "from collections import Counter\n",
    "from math import sqrt\n",
    "\n",
    "def get_mean(number_list):\n",
    "    return sum(number_list)/len(number_list)\n",
    "\n",
    "def get_median(number_list):\n",
    "    sorted_list = sorted(number_list)\n",
    "    length = len(number_list)\n",
    "    if length%2 == 1:\n",
    "        return sorted_list[int(length/2)]\n",
    "    else:\n",
    "        return (sorted_list[int(length/2) - 1] + sorted_list[int(length/2)])/2\n",
    "\n",
    "def get_mode(number_list):\n",
    "    return Counter(number_list).most_common(1)[0][0]\n",
    "\n",
    "def get_std_dev(number_list):\n",
    "    mean = get_mean(number_list)\n",
    "    sum = 0\n",
    "    for x in range(len(number_list)):\n",
    "        sum += (number_list[x] - mean) * (number_list[x] - mean)\n",
    "    return sqrt(sum/(len(number_list) - 1))\n"
   ]
  },
  {
   "cell_type": "code",
   "execution_count": 12,
   "metadata": {},
   "outputs": [
    {
     "name": "stdout",
     "output_type": "stream",
     "text": [
      "4.142857142857143\n",
      "4.142857142857143\n",
      "4\n",
      "4\n",
      "1\n",
      "1\n",
      "2.853569193634026\n",
      "2.8535691936340255\n"
     ]
    }
   ],
   "source": [
    "# Your code here ...\n",
    "test_list = [1, 3, 4, 5, 6, 9, 1]\n",
    "\n",
    "print(get_mean(test_list))\n",
    "print(stats.mean(test_list))\n",
    "\n",
    "print(get_median(test_list))\n",
    "print(stats.median(test_list))\n",
    "\n",
    "print(get_mode(test_list))\n",
    "print(stats.mode(test_list))\n",
    "\n",
    "print(get_std_dev(test_list))\n",
    "print(stats.stdev(test_list))"
   ]
  },
  {
   "cell_type": "code",
   "execution_count": 13,
   "metadata": {},
   "outputs": [],
   "source": [
    "def get_list_column(arr, column):\n",
    "    return [x[column] for x in arr]\n"
   ]
  },
  {
   "cell_type": "code",
   "execution_count": 14,
   "metadata": {},
   "outputs": [
    {
     "name": "stdout",
     "output_type": "stream",
     "text": [
      "4657\n",
      "[-77183.6, -16888.02, -16453.71, -13541.33, -13541.33, -13474.79, -6706.71, -5575.28, -5519.25, -5258.77]\n",
      "[12633.67, 12681.58, 12797.52, 13541.33, 14022.92, 15160.9, 15885.49, 16774.72, 18745.86, 77183.6]\n",
      "Invoice Stats:\n",
      "Mean : 370.99712690573443\n",
      "Median : 189.8\n",
      "Mode : 0.0\n"
     ]
    }
   ],
   "source": [
    "invoice_amounts = list(invoices.values())\n",
    "sorted_invoice_amounts = sorted(invoice_amounts)\n",
    "print(len(invoice_amounts))\n",
    "print(sorted_invoice_amounts[0:10])\n",
    "print(sorted_invoice_amounts[len(invoice_amounts)-10:len(invoice_amounts)])\n",
    "\n",
    "invoice_mean = get_mean(invoice_amounts)\n",
    "invoice_median = get_median(invoice_amounts)\n",
    "invoice_mode = get_mode(invoice_amounts)\n",
    "\n",
    "print(\"Invoice Stats:\")\n",
    "print(\"Mean : \" + str(invoice_mean))\n",
    "print(\"Median : \" + str(invoice_median))\n",
    "print(\"Mode : \" + str(invoice_mode))"
   ]
  },
  {
   "cell_type": "markdown",
   "metadata": {},
   "source": [
    "# HW4) Find standard deviation of \"consolidated invoice values\""
   ]
  },
  {
   "cell_type": "code",
   "execution_count": 15,
   "metadata": {},
   "outputs": [
    {
     "name": "stdout",
     "output_type": "stream",
     "text": [
      "Standard Deviation : 1972.5582843214104\n"
     ]
    }
   ],
   "source": [
    "# Your code here ...\n",
    "invoice_std_dev = get_std_dev(invoice_amounts)\n",
    "print(\"Standard Deviation : \" + str(invoice_std_dev))"
   ]
  },
  {
   "cell_type": "markdown",
   "metadata": {},
   "source": [
    "# HW5) Plot the frequency distribution of invoice values.\n",
    "#     Plot 1, 2, and 3 standard deviation lines"
   ]
  },
  {
   "cell_type": "code",
   "execution_count": 16,
   "metadata": {
    "scrolled": true
   },
   "outputs": [
    {
     "data": {
      "image/png": "[encoded data removed]",
      "text/plain": [
       "<Figure size 1080x360 with 1 Axes>"
      ]
     },
     "metadata": {
      "needs_background": "light"
     },
     "output_type": "display_data"
    }
   ],
   "source": [
    "# Your code here ...\n",
    "# Add some notes for managers on what these standard deviations\n",
    "# mean for business purposes.\n",
    "\n",
    "#import numpy as np\n",
    "plt.close()\n",
    "\n",
    "mu = invoice_mean\n",
    "sigma = invoice_std_dev\n",
    "\n",
    "plt.rcParams.update({'figure.autolayout': True})\n",
    "fig1, ax1 = plt.subplots(figsize=(15, 5))\n",
    "num_bins = 50\n",
    "n, bins, patches = ax1.hist(invoice_amounts, bins=num_bins, density=1, range=(-1000, 1000))\n",
    "\n",
    "ax1.set_title(r'Frequence Distribution (Histogram): $\\mu$={:7.2f}£, $\\sigma$={:7.2f}£'.format(mu, sigma))\n",
    "ax1.set_xlabel(\"Invoice Amounts (in £ / GBP)\")\n",
    "ax1.set_ylabel(\"Frequency\")\n",
    "\n",
    "ax1.axvline(mu+sigma, color='red', linestyle='dashed', linewidth=1)\n",
    "ax1.axvline(mu-sigma, color='red', linestyle='dashed', linewidth=1)\n",
    "ax1.axvline(mu+sigma*2, color='green', linestyle='dashed', linewidth=1)\n",
    "ax1.axvline(mu-sigma*2, color='green', linestyle='dashed', linewidth=1)\n",
    "ax1.axvline(mu+sigma*3, color='black', linestyle='dashed', linewidth=1)\n",
    "ax1.axvline(mu-sigma*3, color='black', linestyle='dashed', linewidth=1)\n",
    "ax1.axvline(mu, color='k', linestyle='dashed', linewidth=1)\n",
    "\n",
    "# add a 'best fit' line\n",
    "#y = ((1 / (np.sqrt(2 * np.pi) * sigma)) * np.exp(-0.5 * (1 / sigma * (bins - mu))**2))\n",
    "#ax1.plot(bins, y, '--')\n",
    "\n",
    "#plt.grid(True)\n",
    "plt.show()"
   ]
  },
  {
   "cell_type": "markdown",
   "metadata": {},
   "source": [
    "# HW6) Business wants to improve service for top customers\n",
    "#     Identify top-10 customers by total money paid\n",
    "#     Print Rank, CustomerID, Percentage of total revenue, Customer Reevenue, Total Revenue"
   ]
  },
  {
   "cell_type": "code",
   "execution_count": 17,
   "metadata": {},
   "outputs": [],
   "source": [
    "def get_sorted_by_column(customers:dict, column=1, reverse=False):\n",
    "    return sorted(customers.items(), key=lambda kv: kv[column], reverse=reverse)\n",
    "\n",
    "def generate_customer(orders):\n",
    "    customers = {}\n",
    "    for order in orders:\n",
    "        customer = order['CustomerID']\n",
    "        item_amount = order['Quantity'] * order['UnitPrice']\n",
    "        if customers.get(customer) is None:\n",
    "            customers[customer] = round(item_amount, 2)\n",
    "        else:\n",
    "            customers[customer] = round(item_amount + customers[customer], 2)\n",
    "    customers['unknown'] = customers.pop('')  # assumption: classify empty or missing customer data as unknown\n",
    "    return get_sorted_by_column(customers, 1, True)  # return list sorted by customer revenue"
   ]
  },
  {
   "cell_type": "code",
   "execution_count": 18,
   "metadata": {},
   "outputs": [
    {
     "name": "stdout",
     "output_type": "stream",
     "text": [
      "1665\n",
      "[('unknown', 328775.09), ('14646', 57821.02), ('18102', 38370.09), ('14156', 25744.75), ('15749', 22998.4), ('15061', 22568.13), ('12415', 21115.9), ('17450', 19516.96), ('16029', 19362.27), ('17511', 18168.89)]\n"
     ]
    }
   ],
   "source": [
    "# Your code here ...\n",
    "customers = generate_customer(orders)\n",
    "\n",
    "print(len(customers))\n",
    "print(customers[0:10])"
   ]
  },
  {
   "cell_type": "code",
   "execution_count": 19,
   "metadata": {},
   "outputs": [],
   "source": [
    "def generate_customer_stats(customers:list):\n",
    "    stats = []\n",
    "    rank = 1\n",
    "    total_revenue = round(sum([x[1] for x in customers]), 2)\n",
    "    for customer in customers:\n",
    "        row = (rank, customer[0], customer[1], round((customer[1]/total_revenue)*100, 2), total_revenue)\n",
    "        stats.append(row)\n",
    "        rank += 1\n",
    "    return stats\n",
    "\n",
    "def get_array_tuple_column(arr, col):\n",
    "    return [x[col] for x in arr]"
   ]
  },
  {
   "cell_type": "code",
   "execution_count": 21,
   "metadata": {},
   "outputs": [
    {
     "name": "stdout",
     "output_type": "stream",
     "text": [
      "Top 10 customer stats:\n",
      "\n",
      "[(1, 'unknown', 328775.09, 19.03, 1727733.62), (2, '14646', 57821.02, 3.35, 1727733.62), (3, '18102', 38370.09, 2.22, 1727733.62), (4, '14156', 25744.75, 1.49, 1727733.62), (5, '15749', 22998.4, 1.33, 1727733.62), (6, '15061', 22568.13, 1.31, 1727733.62), (7, '12415', 21115.9, 1.22, 1727733.62), (8, '17450', 19516.96, 1.13, 1727733.62), (9, '16029', 19362.27, 1.12, 1727733.62), (10, '17511', 18168.89, 1.05, 1727733.62)]\n",
      "\n",
      "Top 10 Lists:\n",
      "\n",
      "CustID:  ['unknown', '14646', '18102', '14156', '15749', '15061', '12415', '17450', '16029', '17511']\n",
      "Revenue:  [328775.09, 57821.02, 38370.09, 25744.75, 22998.4, 22568.13, 21115.9, 19516.96, 19362.27, 18168.89]\n",
      "Total Rev%:  [19.03, 3.35, 2.22, 1.49, 1.33, 1.31, 1.22, 1.13, 1.12, 1.05]\n",
      "Top 10 Rev: 33.25%\n"
     ]
    }
   ],
   "source": [
    "## generate customer stats\n",
    "\n",
    "customers_stat = generate_customer_stats(customers)\n",
    "print(\"Top 10 customer stats:\\n\")\n",
    "print(customers_stat[0:10])\n",
    "\n",
    "top10_cust_id = get_array_tuple_column(customers_stat,1)[0:10]\n",
    "top10_cust_rev = get_array_tuple_column(customers_stat,2)[0:10]\n",
    "top10_total_rev = get_array_tuple_column(customers_stat,3)[0:10]\n",
    "\n",
    "print(\"\\nTop 10 Lists:\\n\")\n",
    "print(\"CustID: \", top10_cust_id)\n",
    "print(\"Revenue: \", top10_cust_rev)\n",
    "print(\"Total Rev%: \", top10_total_rev)\n",
    "print(\"Top 10 Rev: {0:3.2f}%\".format(sum(top10_total_rev)))"
   ]
  },
  {
   "cell_type": "markdown",
   "metadata": {},
   "source": [
    "# HW7) Inventory management -- Business wants to make sure\n",
    "#     that their top selling items are always in stock\n",
    "#     Identify top-10 items which sell the most\n",
    "#     Print Rank, StockCode, Quantity Sold, Description"
   ]
  },
  {
   "cell_type": "code",
   "execution_count": 22,
   "metadata": {},
   "outputs": [],
   "source": [
    "def generate_item_master(orders):\n",
    "    items = {}\n",
    "    for order in orders:\n",
    "        item = order['StockCode']\n",
    "        item_desc = order['Description']\n",
    "        items[item] = item_desc\n",
    "    return get_sorted_by_column(items)  ### return list of items by item id ascending order\n",
    "\n",
    "def generate_item_sales(orders):\n",
    "    item_sales = {}\n",
    "    for order in orders:\n",
    "        item = order['StockCode']\n",
    "        item_sold = order['Quantity']\n",
    "        if item_sales.get(item) is None:\n",
    "            item_sales[item] = item_sold\n",
    "        else:\n",
    "            item_sales[item] = item_sold + item_sales[item]\n",
    "    return get_sorted_by_column(item_sales, 1, True)  ### return list of items sorted desc by quantity sold\n",
    "\n",
    "def generate_item_revenues(orders):\n",
    "    item_revenues = {}\n",
    "    for order in orders:\n",
    "        item = order['StockCode']\n",
    "        item_rev = order['Quantity'] * order['UnitPrice']\n",
    "        if item_revenues.get(item) is None:\n",
    "            item_revenues[item] = round(item_rev, 2)\n",
    "        else:\n",
    "            item_revenues[item] = round(item_rev + item_revenues[item], 2)\n",
    "    return get_sorted_by_column(item_revenues, 1, True)  ### return list of items sorted desc by sales revenue"
   ]
  },
  {
   "cell_type": "code",
   "execution_count": 25,
   "metadata": {},
   "outputs": [
    {
     "name": "stdout",
     "output_type": "stream",
     "text": [
      "Stock Inventory Master:  3143\n",
      "Stock Sample Items:  [('84836', 'ZINC METAL HEART DECORATION'), ('21275', 'ZINC TOP  2 DOOR WOODEN SHELF '), ('84832', 'ZINC WILLIE WINKIE  CANDLE STICK'), ('35833G', 'damages'), ('72038P', 'damages'), ('85096', 'label mix up'), ('85161', 'samples/damages'), ('84614A', 'thrown away'), ('84613A', 'thrown away'), ('84612B', 'thrown away')]\n",
      "\n",
      "Items by sales quantity:  3143\n",
      "Item samples:  [('85123A', 10372), ('84077', 10157), ('21212', 9176), ('85099B', 7413), ('22197', 7002), ('22693', 6748), ('22616', 5821), ('37413', 5670), ('84879', 5573), ('22469', 5566)]\n",
      "\n",
      "Items by sales revenue:  3143\n",
      "Item samples:  [('22423', 48018.16), ('DOT', 47329.83), ('85123A', 28697.59), ('79321', 16330.01), ('21623', 14010.75), ('85099B', 13645.82), ('POST', 11762.82), ('82484', 10816.66), ('22470', 10407.04), ('22469', 10111.78)]\n"
     ]
    }
   ],
   "source": [
    "# Your code here ...\n",
    "item_master = generate_item_master(orders)\n",
    "print(\"Stock Inventory Master: \", len(item_master))\n",
    "#print(\"Stock Sample Items: \", item_master[0:10])\n",
    "print(\"Stock Sample Items: \", item_master[len(item_master)-10:len(item_master)])\n",
    "\n",
    "item_sales = generate_item_sales(orders)\n",
    "print(\"\\nItems by sales quantity: \", len(item_sales))\n",
    "print(\"Item samples: \", item_sales[0:10])\n",
    "\n",
    "item_revenues = generate_item_revenues(orders)\n",
    "print(\"\\nItems by sales revenue: \", len(item_revenues))\n",
    "print(\"Item samples: \", item_revenues[0:10])"
   ]
  },
  {
   "cell_type": "code",
   "execution_count": null,
   "metadata": {},
   "outputs": [],
   "source": [
    "# Other notes\n",
    "# 1) Make reasonable assumptions as you analyze the invoicing data\n",
    "# 2) Add any other visual/analysis which will be useful to business"
   ]
  },
  {
   "cell_type": "code",
   "execution_count": null,
   "metadata": {},
   "outputs": [],
   "source": [
    "# Document your notes here ...\n"
   ]
  }
 ],
 "metadata": {
  "kernelspec": {
   "display_name": "Python 3",
   "language": "python",
   "name": "python3"
  },
  "language_info": {
   "codemirror_mode": {
    "name": "ipython",
    "version": 3
   },
   "file_extension": ".py",
   "mimetype": "text/x-python",
   "name": "python",
   "nbconvert_exporter": "python",
   "pygments_lexer": "ipython3",
   "version": "3.7.3"
  }
 },
 "nbformat": 4,
 "nbformat_minor": 2
}
